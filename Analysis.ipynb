{
 "cells": [
  {
   "cell_type": "markdown",
   "metadata": {},
   "source": [
    "**Case Study**\n",
    "\n",
    "This case study involves studying the dataset about freq in startups\n",
    "& gathering various insights about industries,investors, preferred\n",
    "locations and other trends using the libraries numpy, pandas as well\n",
    "as matplotlib for filtering and visualizing data."
   ]
  },
  {
   "cell_type": "code",
   "execution_count": 2,
   "metadata": {},
   "outputs": [],
   "source": [
    "import numpy as np\n",
    "import pandas as pd\n",
    "import matplotlib.pyplot as plt"
   ]
  },
  {
   "cell_type": "markdown",
   "metadata": {},
   "source": [
    "**Data cleaning and analysing**\n",
    "\n",
    "This section is for cleaning and analysing the dataset and it's features.\n",
    "It provides insights on the quality of data present and the\n",
    "modification that needs to be carried out.\n",
    "\n"
   ]
  },
  {
   "cell_type": "code",
   "execution_count": 9,
   "metadata": {},
   "outputs": [
    {
     "data": {
      "text/html": [
       "<div>\n",
       "<style scoped>\n",
       "    .dataframe tbody tr th:only-of-type {\n",
       "        vertical-align: middle;\n",
       "    }\n",
       "\n",
       "    .dataframe tbody tr th {\n",
       "        vertical-align: top;\n",
       "    }\n",
       "\n",
       "    .dataframe thead th {\n",
       "        text-align: right;\n",
       "    }\n",
       "</style>\n",
       "<table border=\"1\" class=\"dataframe\">\n",
       "  <thead>\n",
       "    <tr style=\"text-align: right;\">\n",
       "      <th></th>\n",
       "      <th>SNo</th>\n",
       "      <th>Date</th>\n",
       "      <th>StartupName</th>\n",
       "      <th>IndustryVertical</th>\n",
       "      <th>SubVertical</th>\n",
       "      <th>CityLocation</th>\n",
       "      <th>InvestorsName</th>\n",
       "      <th>InvestmentType</th>\n",
       "      <th>AmountInUSD</th>\n",
       "      <th>Remarks</th>\n",
       "    </tr>\n",
       "  </thead>\n",
       "  <tbody>\n",
       "    <tr>\n",
       "      <th>0</th>\n",
       "      <td>0</td>\n",
       "      <td>01/08/2017</td>\n",
       "      <td>TouchKin</td>\n",
       "      <td>Technology</td>\n",
       "      <td>Predictive Care Platform</td>\n",
       "      <td>Bangalore</td>\n",
       "      <td>Kae Capital</td>\n",
       "      <td>Private Equity</td>\n",
       "      <td>1,300,000</td>\n",
       "      <td></td>\n",
       "    </tr>\n",
       "    <tr>\n",
       "      <th>1</th>\n",
       "      <td>1</td>\n",
       "      <td>02/08/2017</td>\n",
       "      <td>Ethinos</td>\n",
       "      <td>Technology</td>\n",
       "      <td>Digital Marketing Agency</td>\n",
       "      <td>Mumbai</td>\n",
       "      <td>Triton Investment Advisors</td>\n",
       "      <td>Private Equity</td>\n",
       "      <td></td>\n",
       "      <td></td>\n",
       "    </tr>\n",
       "    <tr>\n",
       "      <th>2</th>\n",
       "      <td>2</td>\n",
       "      <td>02/08/2017</td>\n",
       "      <td>Leverage Edu</td>\n",
       "      <td>Consumer Internet</td>\n",
       "      <td>Online platform for Higher Education Services</td>\n",
       "      <td>New Delhi</td>\n",
       "      <td>Kashyap Deorah, Anand Sankeshwar, Deepak Jain,...</td>\n",
       "      <td>Seed Funding</td>\n",
       "      <td></td>\n",
       "      <td></td>\n",
       "    </tr>\n",
       "    <tr>\n",
       "      <th>3</th>\n",
       "      <td>3</td>\n",
       "      <td>02/08/2017</td>\n",
       "      <td>Zepo</td>\n",
       "      <td>Consumer Internet</td>\n",
       "      <td>DIY Ecommerce platform</td>\n",
       "      <td>Mumbai</td>\n",
       "      <td>Kunal Shah, LetsVenture, Anupam Mittal, Hetal ...</td>\n",
       "      <td>Seed Funding</td>\n",
       "      <td>500,000</td>\n",
       "      <td></td>\n",
       "    </tr>\n",
       "    <tr>\n",
       "      <th>4</th>\n",
       "      <td>4</td>\n",
       "      <td>02/08/2017</td>\n",
       "      <td>Click2Clinic</td>\n",
       "      <td>Consumer Internet</td>\n",
       "      <td>healthcare service aggregator</td>\n",
       "      <td>Hyderabad</td>\n",
       "      <td>Narottam Thudi, Shireesh Palle</td>\n",
       "      <td>Seed Funding</td>\n",
       "      <td>850,000</td>\n",
       "      <td></td>\n",
       "    </tr>\n",
       "  </tbody>\n",
       "</table>\n",
       "</div>"
      ],
      "text/plain": [
       "   SNo        Date   StartupName   IndustryVertical  \\\n",
       "0    0  01/08/2017      TouchKin         Technology   \n",
       "1    1  02/08/2017       Ethinos         Technology   \n",
       "2    2  02/08/2017  Leverage Edu  Consumer Internet   \n",
       "3    3  02/08/2017          Zepo  Consumer Internet   \n",
       "4    4  02/08/2017  Click2Clinic  Consumer Internet   \n",
       "\n",
       "                                     SubVertical CityLocation  \\\n",
       "0                       Predictive Care Platform    Bangalore   \n",
       "1                       Digital Marketing Agency       Mumbai   \n",
       "2  Online platform for Higher Education Services    New Delhi   \n",
       "3                         DIY Ecommerce platform       Mumbai   \n",
       "4                  healthcare service aggregator    Hyderabad   \n",
       "\n",
       "                                       InvestorsName  InvestmentType  \\\n",
       "0                                        Kae Capital  Private Equity   \n",
       "1                         Triton Investment Advisors  Private Equity   \n",
       "2  Kashyap Deorah, Anand Sankeshwar, Deepak Jain,...    Seed Funding   \n",
       "3  Kunal Shah, LetsVenture, Anupam Mittal, Hetal ...    Seed Funding   \n",
       "4                     Narottam Thudi, Shireesh Palle    Seed Funding   \n",
       "\n",
       "  AmountInUSD Remarks  \n",
       "0   1,300,000          \n",
       "1                      \n",
       "2                      \n",
       "3     500,000          \n",
       "4     850,000          "
      ]
     },
     "execution_count": 9,
     "metadata": {},
     "output_type": "execute_result"
    }
   ],
   "source": [
    "fund = pd.read_csv('startup_funding.csv', skipinitialspace= True)\n",
    "df = fund.copy()\n",
    "df.fillna('', inplace = True)\n",
    "\n",
    "df.head()"
   ]
  },
  {
   "cell_type": "markdown",
   "metadata": {},
   "source": [
    "**Section 1**\n",
    "\n",
    "Number of fundings in the preferred cities\n",
    "namely Mumbai, Bangalore and cities in NCR(New Delhi, Noida & Gurgaon) \n",
    "\n",
    "While cleaning and analysing the data it was found that the city locations\n",
    "needed corrections, eg. 'New Delhi' is also present as 'Delhi' as well as with some foriegn states.\n",
    "\n",
    "The initial part of this section includes creating a frequency map for the given\n",
    "locations and then zip-sorting them based on frequency.\n",
    "\n",
    "The final part includes plotting the bar graph using the zipped data.\n"
   ]
  },
  {
   "cell_type": "code",
   "execution_count": 10,
   "metadata": {},
   "outputs": [
    {
     "data": {
      "image/png": "[encoded data removed]",
      "text/plain": [
       "<Figure size 432x288 with 1 Axes>"
      ]
     },
     "metadata": {
      "needs_background": "light"
     },
     "output_type": "display_data"
    },
    {
     "name": "stdout",
     "output_type": "stream",
     "text": [
      "Bangalore had the maximum number of fundings.\n"
     ]
    }
   ],
   "source": [
    "#Analysis of City Locations\n",
    "sorted(df['CityLocation'].unique())\n",
    "\n",
    "#Data\n",
    "cities = np.array(['Bangalore', 'Mumbai',\n",
    "        'New Delhi', 'Gurgaon', 'Noida'])\n",
    "fundings = np.zeros(5,dtype = int)\n",
    "\n",
    "for city in df.CityLocation:\n",
    "    city = city.lower()\n",
    "    if 'bangalore' in city:\n",
    "        fundings[0] += 1\n",
    "    elif 'mumbai' in city:\n",
    "        fundings[1] += 1\n",
    "    elif 'delhi' in city:\n",
    "        fundings[2] += 1\n",
    "    elif 'gurgaon' in city:\n",
    "        fundings[3] += 1\n",
    "    elif 'noida' in city:\n",
    "        fundings[4] += 1 \n",
    "\n",
    "#Graph\n",
    "y,x = zip(*sorted(list( zip(fundings,cities)), reverse =True))\n",
    "\n",
    "fig,ax = plt.subplots()\n",
    "ax.grid(color = '#141E27', axis = 'y')\n",
    "ax.set_axisbelow(True)\n",
    "ax.set_title(label = 'Number of fundings')\n",
    "ax.bar(x,y, color = '#141E27')\n",
    "\n",
    "ax.set_xlabel('Locations', fontsize = 14)\n",
    "ax.set_ylabel('Number of fundings', fontsize = 14)\n",
    "\n",
    "plt.show()\n",
    "print(x[0],'had the maximum number of fundings.')"
   ]
  },
  {
   "cell_type": "markdown",
   "metadata": {},
   "source": [
    "**Section 2**\n",
    "\n",
    "The top five investors (based on frequency of investments)\n"
   ]
  },
  {
   "cell_type": "code",
   "execution_count": 11,
   "metadata": {},
   "outputs": [
    {
     "name": "stdout",
     "output_type": "stream",
     "text": [
      "Sequoia Capital\n",
      "Accel Partners\n",
      "Kalaari Capital\n",
      "SAIF Partners\n",
      "Indian Angel Network\n"
     ]
    }
   ],
   "source": [
    "#Analysis of Investor names\n",
    "# x = df.InvestorsName.unique()\n",
    "# for name in x:\n",
    "#     if('undisclosed' in name.lower()):\n",
    "#         print(name)\n",
    "\n",
    "#Data\n",
    "investors = {}\n",
    "for names in df.InvestorsName:\n",
    "    if names == '':continue\n",
    "    for name in names.split(','):\n",
    "        name = name.strip()\n",
    "        if name == '':continue\n",
    "        if 'Undisclosed' in name or 'undisclosed' in name:continue\n",
    "\n",
    "        if name in investors:\n",
    "            investors[name] += 1\n",
    "        else:\n",
    "            investors[name] = 1\n",
    "\n",
    "freq = pd.DataFrame(investors.items(), columns = ['Name','Frequency'])\n",
    "for investor in freq.nlargest(5,'Frequency').Name : print(investor)"
   ]
  },
  {
   "cell_type": "markdown",
   "metadata": {},
   "source": [
    "**Section 3**\n",
    "\n",
    "Top 5 investors (based on unique investments)"
   ]
  },
  {
   "cell_type": "code",
   "execution_count": 12,
   "metadata": {},
   "outputs": [
    {
     "name": "stdout",
     "output_type": "stream",
     "text": [
      "Sequoia Capital\n",
      "Accel Partners\n",
      "Kalaari Capital\n",
      "Indian Angel Network\n",
      "Blume Ventures\n"
     ]
    }
   ],
   "source": [
    "#Analysis of Startup Names\n",
    "# x = df.StartupName.unique().astype(str)\n",
    "# startups = ['oyo', 'flipkart', 'ola','paytm']\n",
    "# for j in startups:\n",
    "#     for i in x:\n",
    "#         if j in i.lower():print(i)\n",
    "\n",
    "freq,investors = {},{}\n",
    "for names,company in zip(df.InvestorsName,df.StartupName):\n",
    "    if names == '':continue\n",
    "    if company == '':continue\n",
    "    \n",
    "    if   company == 'Flipkart.com':company = 'Flipkart'\n",
    "    elif company == 'Paytm Marketplace' :company = 'Paytm'\n",
    "    elif company == 'Ola Cabs' or company == 'Olacabs':company = 'Ola'\n",
    "    elif company in {'Oyo Rooms','OyoRooms','Oyorooms','OYO Rooms'}:\n",
    "        company = 'Oyo'\n",
    "\n",
    "\n",
    "    for name in names.split(','):\n",
    "        name = name.strip()\n",
    "        if name == '': continue\n",
    "        if 'Undisclosed' in name or 'undisclosed' in name:continue\n",
    "\n",
    "        if name in freq:\n",
    "            if company not in investors[name]:\n",
    "                investors[name].add(company)\n",
    "                freq[name] += 1\n",
    "\n",
    "        else:\n",
    "            investors[name] = {company}\n",
    "            freq[name] = 1\n",
    "\n",
    "f = pd.DataFrame(freq.items(), columns = ['Name','Frequency'])\n",
    "for investor in f.nlargest(5,'Frequency').Name : print(investor)"
   ]
  },
  {
   "cell_type": "markdown",
   "metadata": {},
   "source": [
    "**Section 4**\n",
    "\n",
    "Top five investors based on unique Seed or Crowd Funding based investments\n"
   ]
  },
  {
   "cell_type": "code",
   "execution_count": 17,
   "metadata": {},
   "outputs": [
    {
     "name": "stdout",
     "output_type": "stream",
     "text": [
      "Indian Angel Network\n",
      "Rajan Anandan\n",
      "LetsVenture\n",
      "Anupam Mittal\n",
      "Kunal Shah\n"
     ]
    }
   ],
   "source": [
    "#Analysis of Investment Types\n",
    "df.InvestmentType.unique()\n",
    "\n",
    "freq,investors = {},{}\n",
    "for names,company,funding in zip(df.InvestorsName,\n",
    "                df.StartupName,df.InvestmentType):\n",
    "\n",
    "    if names == '':continue\n",
    "    if company == '':continue\n",
    "    if funding in {'','Private Equity',\n",
    "        'PrivateEquity', 'Debt Funding'}:continue\n",
    "    \n",
    "    if   company == 'Flipkart.com':company = 'Flipkart'\n",
    "    elif company == 'Paytm Marketplace' :company = 'Paytm'\n",
    "    elif company == 'Ola Cabs' or company == 'Olacabs':\n",
    "        company = 'Ola'\n",
    "    elif company in {'Oyo Rooms','OyoRooms',\n",
    "                    'Oyorooms','OYO Rooms'}:company = 'Oyo'\n",
    "\n",
    "    for name in names.split(','):\n",
    "        name = name.strip()\n",
    "        if name == '': continue\n",
    "        if 'Undisclosed' in name or 'undisclosed' in name:continue\n",
    "\n",
    "        if name in freq:\n",
    "            if company not in investors[name]:\n",
    "                investors[name].add(company)\n",
    "                freq[name] += 1\n",
    "\n",
    "        else:\n",
    "            investors[name] = {company}\n",
    "            freq[name] = 1\n",
    "\n",
    "f = pd.DataFrame(freq.items(), columns = ['Name','Frequency'])\n",
    "for investor in f.nlargest(5,'Frequency').Name : print(investor)"
   ]
  },
  {
   "cell_type": "markdown",
   "metadata": {},
   "source": [
    "**Section 5**\n",
    " \n",
    " Top 5 investors (based on unique private equity based investments)"
   ]
  },
  {
   "cell_type": "code",
   "execution_count": 201,
   "metadata": {},
   "outputs": [
    {
     "name": "stdout",
     "output_type": "stream",
     "text": [
      "Sequoia Capital\n",
      "Accel Partners\n",
      "Kalaari Capital\n",
      "Blume Ventures\n",
      "SAIF Partners\n"
     ]
    }
   ],
   "source": [
    "freq,investors = {},{}\n",
    "for names,company,funding in zip(df.InvestorsName,\n",
    "                df.StartupName,df.InvestmentType):\n",
    "\n",
    "    if names == '':continue\n",
    "    if company == '':continue\n",
    "    if funding not in {'Private Equity','PrivateEquity'}:continue\n",
    "    \n",
    "    if   company == 'Flipkart.com':company = 'Flipkart'\n",
    "    elif company == 'Paytm Marketplace' :company = 'Paytm'\n",
    "    elif company == 'Ola Cabs' or company == 'Olacabs':company = 'Ola'\n",
    "    elif company in {'Oyo Rooms','OyoRooms','Oyorooms','OYO Rooms'}:\n",
    "        company = 'Oyo'\n",
    "\n",
    "    for name in names.split(','):\n",
    "        name = name.strip()\n",
    "        if name == '': continue\n",
    "        if 'Undisclosed' in name or 'undisclosed' in name:continue\n",
    "\n",
    "        if name in freq:\n",
    "            if company not in investors[name]:\n",
    "                investors[name].add(company)\n",
    "                freq[name] += 1\n",
    "\n",
    "        else:\n",
    "            investors[name] = {company}\n",
    "            freq[name] = 1\n",
    "\n",
    "f = pd.DataFrame(freq.items(), columns = ['Name','Frequency'])\n",
    "for investor in f.nlargest(5,'Frequency').Name : print(investor)"
   ]
  }
 ],
 "metadata": {
  "interpreter": {
   "hash": "8808760c2eafe3eda954e5aa1b2d4d4b467e8021e7096d9a20e762526b943792"
  },
  "kernelspec": {
   "display_name": "Python 3.9.1 64-bit",
   "language": "python",
   "name": "python3"
  },
  "language_info": {
   "codemirror_mode": {
    "name": "ipython",
    "version": 3
   },
   "file_extension": ".py",
   "mimetype": "text/x-python",
   "name": "python",
   "nbconvert_exporter": "python",
   "pygments_lexer": "ipython3",
   "version": "3.9.1"
  },
  "orig_nbformat": 4
 },
 "nbformat": 4,
 "nbformat_minor": 2
}
